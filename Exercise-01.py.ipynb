{
 "cells": [
  {
   "cell_type": "code",
   "execution_count": 7,
   "metadata": {},
   "outputs": [
    {
     "name": "stdout",
     "output_type": "stream",
     "text": [
      "Nama = Muchammad Wildan Eko Kusuma\n",
      "Nim = I0322078\n",
      "Saya berasal dari Kabupaten Kediri, tepatnya di Dusun Kapurejo, Desa Pagu, Kecamatan Pagu. Kampung halaman saya sangat makmur, orang dikampung halaman saya juga ramah-ramah, kampung halaman saya dekat dengan bukit jadi disana sangat menyejukkan udaranya. Hrapam saya di teknik industri yaitu ingin menjadi seorang engineering yang profesional dibidangnya. Sekian dan terimakasih\n"
     ]
    }
   ],
   "source": [
    "nama = \"Muchammad Wildan Eko Kusuma\"\n",
    "nim = \"I0322078\"\n",
    "print (\"Nama =\", nama)\n",
    "print (\"Nim =\", nim)\n",
    "print (\"Saya berasal dari Kabupaten Kediri, tepatnya di Dusun Kapurejo, Desa Pagu, Kecamatan Pagu. Kampung halaman saya sangat makmur, orang dikampung halaman saya juga ramah-ramah, kampung halaman saya dekat dengan bukit jadi disana sangat menyejukkan udaranya. Hrapam saya di teknik industri yaitu ingin menjadi seorang engineering yang profesional dibidangnya. Sekian dan terimakasih\")"
   ]
  }
 ],
 "metadata": {
  "kernelspec": {
   "display_name": "Python 3",
   "language": "python",
   "name": "python3"
  },
  "language_info": {
   "codemirror_mode": {
    "name": "ipython",
    "version": 3
   },
   "file_extension": ".py",
   "mimetype": "text/x-python",
   "name": "python",
   "nbconvert_exporter": "python",
   "pygments_lexer": "ipython3",
   "version": "3.11.2"
  },
  "orig_nbformat": 4
 },
 "nbformat": 4,
 "nbformat_minor": 2
}
